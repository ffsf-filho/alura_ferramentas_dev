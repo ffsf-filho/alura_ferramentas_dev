{
  "nbformat": 4,
  "nbformat_minor": 0,
  "metadata": {
    "colab": {
      "provenance": []
    },
    "kernelspec": {
      "name": "python3",
      "display_name": "Python 3"
    },
    "language_info": {
      "name": "python"
    }
  },
  "cells": [
    {
      "cell_type": "code",
      "source": [
        "import requests\n",
        "import re"
      ],
      "metadata": {
        "id": "VqG-G_MviA4c"
      },
      "execution_count": 1,
      "outputs": []
    },
    {
      "cell_type": "code",
      "source": [
        "url = \"https://monicahillman.github.io/monibank/\"\n",
        "response = requests.get(url)\n",
        "html_content = response.text"
      ],
      "metadata": {
        "id": "8rbBeHC_kJS-"
      },
      "execution_count": 2,
      "outputs": []
    },
    {
      "cell_type": "code",
      "source": [
        "# Verifique se a requisição foi bem-sucedida\n",
        "if response.status_code == 200:\n",
        "    # Conteúdo da página\n",
        "    pagina = response.text\n",
        "\n",
        "    # Padrao regex para encontrar linhas com a palavra \"moni\"\n",
        "    padrao = r'\\bbank\\b'\n",
        "\n",
        "    # Divida o conteúdo da página em linhas\n",
        "    linhas = pagina.split('\\n')\n",
        "\n",
        "    for indice, linha in enumerate(linhas, start=1):\n",
        "        if re.search(padrao, linha, re.IGNORECASE):\n",
        "            print(f\"Linha {indice}: {linha}\")\n",
        "else:\n",
        "    print(f\"A requisição GET para {url} falhou com o código {response.status_code}\")"
      ],
      "metadata": {
        "id": "yvdZwrl-kuj4",
        "colab": {
          "base_uri": "https://localhost:8080/"
        },
        "outputId": "697d1a21-bf6b-44ab-e82b-1b9281ff817c"
      },
      "execution_count": 4,
      "outputs": [
        {
          "output_type": "stream",
          "name": "stdout",
          "text": [
            "Linha 23:         <h1 class=\"cabecalho__logo-inicio\">Moni<span class=\"cabecalho__logo-final\">Bank</span></h1>\n",
            "Linha 156:             <h2 class=\"rodape__logo\"><span class=\"rodape__logo--negrito\">Moni</span>Bank</h2>\n"
          ]
        }
      ]
    }
  ]
}