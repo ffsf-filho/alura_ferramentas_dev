{
  "nbformat": 4,
  "nbformat_minor": 0,
  "metadata": {
    "colab": {
      "provenance": []
    },
    "kernelspec": {
      "name": "python3",
      "display_name": "Python 3"
    },
    "language_info": {
      "name": "python"
    }
  },
  "cells": [
    {
      "cell_type": "code",
      "source": [
        "import requests\n",
        "import re"
      ],
      "metadata": {
        "id": "VqG-G_MviA4c"
      },
      "execution_count": 1,
      "outputs": []
    },
    {
      "cell_type": "code",
      "source": [
        "url = \"https://monicahillman.github.io/monibank/\"\n",
        "response = requests.get(url)\n",
        "html_content = response.text"
      ],
      "metadata": {
        "id": "8rbBeHC_kJS-"
      },
      "execution_count": 3,
      "outputs": []
    },
    {
      "cell_type": "code",
      "source": [
        "pattern = r'<(h[1|2])[^>]*>(.*?)<\\/\\1>'\n",
        "\n",
        "headings = re.findall(pattern, html_content, re.DOTALL)\n",
        "for heading in headings:\n",
        "  print(heading)"
      ],
      "metadata": {
        "id": "yvdZwrl-kuj4",
        "colab": {
          "base_uri": "https://localhost:8080/"
        },
        "outputId": "7059d62b-573f-4c35-8ad3-da4465a05884"
      },
      "execution_count": 8,
      "outputs": [
        {
          "output_type": "stream",
          "name": "stdout",
          "text": [
            "('h1', 'Moni<span class=\"cabecalho__logo-final\">Bank</span>')\n",
            "('h2', 'Serviços')\n",
            "('h2', 'Mais vantagens do nosso banco:')\n",
            "('h2', 'O MoniBank')\n",
            "('h2', 'Serviços')\n",
            "('h2', 'Contato')\n",
            "('h2', 'Acesse nossas redes')\n",
            "('h2', '<span class=\"rodape__logo--negrito\">Moni</span>Bank')\n"
          ]
        }
      ]
    }
  ]
}